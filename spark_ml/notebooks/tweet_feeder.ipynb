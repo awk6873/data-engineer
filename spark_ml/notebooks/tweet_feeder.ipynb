{
 "cells": [
  {
   "cell_type": "code",
   "execution_count": 1,
   "metadata": {},
   "outputs": [
    {
     "name": "stdout",
     "output_type": "stream",
     "text": [
      "Current spark version is 2.4.4\n"
     ]
    }
   ],
   "source": [
    "println(s\"Current spark version is ${spark.version}\")"
   ]
  },
  {
   "cell_type": "code",
   "execution_count": 2,
   "metadata": {},
   "outputs": [
    {
     "name": "stdout",
     "output_type": "stream",
     "text": [
      "Total tweets in file: 1600000\n"
     ]
    },
    {
     "data": {
      "text/plain": [
       "dataSchema = StructType(StructField(target,IntegerType,true), StructField(id,LongType,true), StructField(raw_timestamp,StringType,true), StructField(query_status,StringType,true), StructField(author,StringType,true), StructField(tweet,StringType,true))\n",
       "dataPath = /home/jovyan/data/training.1600000.processed.noemoticon.csv\n",
       "raw_sentiment = [tweet: string]\n"
      ]
     },
     "metadata": {},
     "output_type": "display_data"
    },
    {
     "data": {
      "text/plain": [
       "[tweet: string]"
      ]
     },
     "execution_count": 2,
     "metadata": {},
     "output_type": "execute_result"
    }
   ],
   "source": [
    "import org.apache.spark.sql.types.{StructType, StructField, IntegerType, LongType, StringType}\n",
    "import org.apache.spark.sql.functions._\n",
    "\n",
    "val dataSchema = new StructType()\n",
    "    .add(\"target\", IntegerType)\n",
    "    .add(\"id\", LongType)\n",
    "    .add(\"raw_timestamp\", StringType)\n",
    "    .add(\"query_status\", StringType)\n",
    "    .add(\"author\", StringType)\n",
    "    .add(\"tweet\", StringType)\n",
    "\n",
    "    \n",
    "val dataPath= \"/home/jovyan/data/training.1600000.processed.noemoticon.csv\"\n",
    "\n",
    "val raw_sentiment = spark.read\n",
    "    .format(\"csv\")\n",
    "    .option(\"header\",false)\n",
    "    .schema(dataSchema)\n",
    "    .load(dataPath)\n",
    "    .selectExpr(\"tweet\")\n",
    "\n",
    "println(s\"Total tweets in file: ${raw_sentiment.count}\")\n"
   ]
  },
  {
   "cell_type": "code",
   "execution_count": 3,
   "metadata": {},
   "outputs": [
    {
     "name": "stdout",
     "output_type": "stream",
     "text": [
      "Streaming started!\n"
     ]
    },
    {
     "data": {
      "text/plain": [
       "timer = java.util.Timer@6d7e48a7\n",
       "task = $anon$1@45781cc2\n"
      ]
     },
     "metadata": {},
     "output_type": "display_data"
    },
    {
     "data": {
      "text/plain": [
       "$anon$1@45781cc2"
      ]
     },
     "execution_count": 3,
     "metadata": {},
     "output_type": "execute_result"
    },
    {
     "name": "stdout",
     "output_type": "stream",
     "text": [
      "2020-02-08T00:40:55.280Z - saved some data to the events stream!\n",
      "2020-02-08T00:41:01.212Z - saved some data to the events stream!\n",
      "2020-02-08T00:41:08.299Z - saved some data to the events stream!\n",
      "2020-02-08T00:41:14.028Z - saved some data to the events stream!\n",
      "2020-02-08T00:41:19.384Z - saved some data to the events stream!\n",
      "2020-02-08T00:41:24.762Z - saved some data to the events stream!\n",
      "2020-02-08T00:41:30.394Z - saved some data to the events stream!\n",
      "2020-02-08T00:41:35.419Z - saved some data to the events stream!\n",
      "2020-02-08T00:41:40.783Z - saved some data to the events stream!\n",
      "2020-02-08T00:41:46.026Z - saved some data to the events stream!\n",
      "2020-02-08T00:41:51.453Z - saved some data to the events stream!\n",
      "2020-02-08T00:41:57.157Z - saved some data to the events stream!\n",
      "2020-02-08T00:42:02Z - saved some data to the events stream!\n",
      "2020-02-08T00:42:07.854Z - saved some data to the events stream!\n",
      "2020-02-08T00:42:13.270Z - saved some data to the events stream!\n",
      "2020-02-08T00:42:18.085Z - saved some data to the events stream!\n",
      "2020-02-08T00:42:23.441Z - saved some data to the events stream!\n",
      "2020-02-08T00:42:28.357Z - saved some data to the events stream!\n",
      "2020-02-08T00:42:33.207Z - saved some data to the events stream!\n",
      "2020-02-08T00:42:38.194Z - saved some data to the events stream!\n",
      "2020-02-08T00:42:43.123Z - saved some data to the events stream!\n",
      "2020-02-08T00:42:48.362Z - saved some data to the events stream!\n",
      "2020-02-08T00:42:53.315Z - saved some data to the events stream!\n",
      "2020-02-08T00:42:58.403Z - saved some data to the events stream!\n",
      "2020-02-08T00:43:03.836Z - saved some data to the events stream!\n",
      "2020-02-08T00:43:09.398Z - saved some data to the events stream!\n",
      "2020-02-08T00:43:14.654Z - saved some data to the events stream!\n",
      "2020-02-08T00:43:19.737Z - saved some data to the events stream!\n",
      "2020-02-08T00:43:24.577Z - saved some data to the events stream!\n",
      "2020-02-08T00:43:29.576Z - saved some data to the events stream!\n",
      "2020-02-08T00:43:34.919Z - saved some data to the events stream!\n",
      "2020-02-08T00:43:39.821Z - saved some data to the events stream!\n",
      "2020-02-08T00:43:44.628Z - saved some data to the events stream!\n",
      "2020-02-08T00:43:49.739Z - saved some data to the events stream!\n",
      "2020-02-08T00:43:54.653Z - saved some data to the events stream!\n",
      "2020-02-08T00:43:59.659Z - saved some data to the events stream!\n",
      "2020-02-08T00:44:05.080Z - saved some data to the events stream!\n",
      "2020-02-08T00:44:10.519Z - saved some data to the events stream!\n",
      "2020-02-08T00:44:16.216Z - saved some data to the events stream!\n",
      "2020-02-08T00:44:21.630Z - saved some data to the events stream!\n",
      "2020-02-08T00:44:26.538Z - saved some data to the events stream!\n",
      "2020-02-08T00:44:31.416Z - saved some data to the events stream!\n",
      "2020-02-08T00:44:36.348Z - saved some data to the events stream!\n",
      "2020-02-08T00:44:41.313Z - saved some data to the events stream!\n",
      "2020-02-08T00:44:46.510Z - saved some data to the events stream!\n",
      "2020-02-08T00:44:51.347Z - saved some data to the events stream!\n",
      "2020-02-08T00:44:56.195Z - saved some data to the events stream!\n",
      "2020-02-08T00:45:01.083Z - saved some data to the events stream!\n",
      "2020-02-08T00:45:06.859Z - saved some data to the events stream!\n"
     ]
    }
   ],
   "source": [
    "import java.util.{Calendar, Timer, TimerTask}\n",
    "\n",
    "val timer = new Timer()\n",
    "\n",
    "val task = new TimerTask {\n",
    "  def run(): Unit = {\n",
    "      val data = raw_sentiment.sample(fraction=0.00001,withReplacement=true)\n",
    "          .withColumn(\"timestamp\", lit(current_timestamp()))\n",
    "      data.coalesce(1).write.format(\"json\").mode(\"append\").save(\"/home/jovyan/data/events-stream\")\n",
    "      println(s\"${Calendar.getInstance().toInstant} - saved some data to the events stream!\")\n",
    "  } \n",
    "}\n",
    "\n",
    "println(\"Streaming started!\")\n",
    "\n",
    "timer.schedule(task, 1000L, 1000L)"
   ]
  },
  {
   "cell_type": "code",
   "execution_count": 4,
   "metadata": {},
   "outputs": [
    {
     "data": {
      "text/plain": [
       "true"
      ]
     },
     "execution_count": 4,
     "metadata": {},
     "output_type": "execute_result"
    }
   ],
   "source": [
    "task.cancel()"
   ]
  },
  {
   "cell_type": "code",
   "execution_count": null,
   "metadata": {},
   "outputs": [],
   "source": []
  }
 ],
 "metadata": {
  "kernelspec": {
   "display_name": "Apache Toree - Scala",
   "language": "scala",
   "name": "apache_toree_scala"
  },
  "language_info": {
   "codemirror_mode": "text/x-scala",
   "file_extension": ".scala",
   "mimetype": "text/x-scala",
   "name": "scala",
   "pygments_lexer": "scala",
   "version": "2.11.12"
  }
 },
 "nbformat": 4,
 "nbformat_minor": 2
}